{
 "cells": [
  {
   "cell_type": "code",
   "execution_count": 1,
   "metadata": {},
   "outputs": [],
   "source": [
    "import tensorflow as tf\n",
    "from tensorflow.keras.optimizers import RMSprop\n",
    "from tensorflow.keras.preprocessing.image import ImageDataGenerator\n",
    "import os\n",
    "from shutil import copyfile\n",
    "import shutil\n",
    "import random\n",
    "from tensorflow.keras.callbacks import ModelCheckpoint\n",
    "random.seed(0)"
   ]
  },
  {
   "cell_type": "code",
   "execution_count": 2,
   "metadata": {},
   "outputs": [],
   "source": [
    "shutil.rmtree('/datam')\n",
    "os.makedirs('/datam/Maskdata/')\n",
    "os.makedirs('/datam/Maskdata/training/')\n",
    "os.makedirs('/datam/Maskdata/testing/')\n",
    "os.makedirs('/datam/Maskdata/training/mask/')\n",
    "os.makedirs('/datam/Maskdata/training/no_mask/')\n",
    "os.makedirs('/datam/Maskdata/testing/mask/')\n",
    "os.makedirs('/datam/Maskdata/testing/no_mask/')"
   ]
  },
  {
   "cell_type": "code",
   "execution_count": 3,
   "metadata": {},
   "outputs": [],
   "source": [
    "def split_data(SOURCE, TRAINING, TESTING, SPLIT_SIZE):\n",
    "    dataset=[]\n",
    "    for i in os.listdir(SOURCE):\n",
    "        if os.path.getsize(SOURCE+i)>0:\n",
    "            dataset.append(i)\n",
    "        else:\n",
    "            \n",
    "            print('skipped')\n",
    "    train_set_size=int(len(dataset)*SPLIT_SIZE)\n",
    "    test_set_size=int(len(dataset)-train_set_size)\n",
    "    s=random.sample(dataset,len(dataset))\n",
    "    train=s[0:train_set_size]\n",
    "    test=s[:test_set_size]\n",
    "    for i in train:\n",
    "        y=SOURCE+i\n",
    "        d=TRAINING+i\n",
    "        copyfile(y,d)\n",
    "    for i in test:\n",
    "        y=SOURCE+i\n",
    "        d=TESTING+i\n",
    "        copyfile(y,d)\n"
   ]
  },
  {
   "cell_type": "code",
   "execution_count": 4,
   "metadata": {},
   "outputs": [],
   "source": [
    "mask_source='new/mask/'\n",
    "train_mask='/datam/Maskdata/training/mask/'\n",
    "test_mask='/datam/Maskdata/testing/mask/'\n",
    "no_mask_source='new/nomask/'\n",
    "train_no_mask='/datam/Maskdata/training/no_mask/'\n",
    "test_no_mask='/datam/Maskdata/testing/no_mask/'\n",
    "sp=0.91\n",
    "split_data(mask_source,train_mask,test_mask,sp)\n",
    "split_data(no_mask_source,train_no_mask,test_no_mask,sp)"
   ]
  },
  {
   "cell_type": "code",
   "execution_count": 5,
   "metadata": {},
   "outputs": [
    {
     "name": "stdout",
     "output_type": "stream",
     "text": [
      "627\n",
      "624\n",
      "63\n",
      "62\n"
     ]
    }
   ],
   "source": [
    "train_mask_dir='/datam/Maskdata/training/mask/'\n",
    "train_no_mask_dir='/datam/Maskdata/training/no_mask/'\n",
    "valid_mask_dir='/datam/Maskdata/testing/mask/'\n",
    "valid_no_mask_dir='/datam/Maskdata/testing/no_mask/'\n",
    "print(len(os.listdir(train_mask_dir)))\n",
    "print(len(os.listdir(train_no_mask_dir)))\n",
    "print(len(os.listdir(valid_mask_dir)))\n",
    "print(len(os.listdir(valid_no_mask_dir)))"
   ]
  },
  {
   "cell_type": "code",
   "execution_count": 6,
   "metadata": {},
   "outputs": [
    {
     "name": "stdout",
     "output_type": "stream",
     "text": [
      "last layer output shape:  (None, 7, 7, 768)\n"
     ]
    }
   ],
   "source": [
    "from tensorflow.keras import layers\n",
    "from tensorflow.keras import Model\n",
    "from tensorflow.keras.applications.inception_v3 import InceptionV3\n",
    "local_weights_file = 'inception_v3_weights_tf_dim_ordering_tf_kernels_notop.h5'\n",
    "\n",
    "model = InceptionV3(input_shape = (150, 150, 3), \n",
    "                                include_top = False, \n",
    "                                weights = None)\n",
    "\n",
    "model.load_weights(local_weights_file)\n",
    "\n",
    "for layer in model.layers:\n",
    "    layer.trainable = False\n",
    "\n",
    "\n",
    "last_layer = model.get_layer('mixed7')\n",
    "print('last layer output shape: ', last_layer.output_shape)\n",
    "last_output = last_layer.output"
   ]
  },
  {
   "cell_type": "code",
   "execution_count": 7,
   "metadata": {},
   "outputs": [],
   "source": [
    "from tensorflow.keras.optimizers import RMSprop\n",
    "\n",
    "# Flatten the output layer to 1 dimension\n",
    "x = layers.Flatten()(last_output)\n",
    "# Add a fully connected layer with 1,024 hidden units and ReLU activation\n",
    "x = layers.Dense(1024, activation='relu')(x)\n",
    "# Add a dropout rate of 0.2\n",
    "x = layers.Dropout(0.2)(x)                  \n",
    "# Add a final sigmoid layer for classification\n",
    "x = layers.Dense  (1, activation='sigmoid')(x)           \n",
    "\n",
    "model = Model(model.input, x) \n",
    "\n",
    "model.compile(optimizer = RMSprop(lr=0.0001), \n",
    "              loss = 'binary_crossentropy', \n",
    "              metrics = ['accuracy'])\n"
   ]
  },
  {
   "cell_type": "code",
   "execution_count": 8,
   "metadata": {},
   "outputs": [
    {
     "name": "stdout",
     "output_type": "stream",
     "text": [
      "Found 1251 images belonging to 2 classes.\n",
      "Found 125 images belonging to 2 classes.\n"
     ]
    }
   ],
   "source": [
    "train_dir='/datam/Maskdata/training/'\n",
    "valid_dir='/datam/Maskdata/testing/'\n",
    "train_datagen = ImageDataGenerator(\n",
    "      rescale=1./255,\n",
    "      rotation_range=40,\n",
    "      width_shift_range=0.2,\n",
    "      height_shift_range=0.2,\n",
    "      shear_range=0.2,\n",
    "      zoom_range=0.2,\n",
    "      horizontal_flip=True,\n",
    "      fill_mode='nearest')\n",
    "valid_datagen=ImageDataGenerator(\n",
    "      rescale=1./255,\n",
    "      rotation_range=40,\n",
    "      width_shift_range=0.2,\n",
    "      height_shift_range=0.2,\n",
    "      shear_range=0.2,\n",
    "      zoom_range=0.2,\n",
    "      horizontal_flip=True,\n",
    "      fill_mode='nearest')\n",
    "train_data=train_datagen.flow_from_directory(\n",
    "                    train_dir,\n",
    "                    batch_size=20,\n",
    "                                    class_mode='binary',\n",
    "                                    target_size=(150,150))\n",
    "valid_data=valid_datagen.flow_from_directory(\n",
    "                    valid_dir,\n",
    "                    batch_size=20,\n",
    "                                    class_mode='binary',\n",
    "                                    target_size=(150,150))\n"
   ]
  },
  {
   "cell_type": "code",
   "execution_count": 9,
   "metadata": {},
   "outputs": [
    {
     "name": "stdout",
     "output_type": "stream",
     "text": [
      "Epoch 1/20\n",
      "100/100 - 108s - loss: 0.2558 - accuracy: 0.8950 - val_loss: 0.0615 - val_accuracy: 0.9743\n",
      "Epoch 2/20\n",
      "100/100 - 101s - loss: 0.1305 - accuracy: 0.9521 - val_loss: 0.0297 - val_accuracy: 0.9911\n",
      "Epoch 3/20\n",
      "100/100 - 98s - loss: 0.1030 - accuracy: 0.9679 - val_loss: 0.0481 - val_accuracy: 0.9844\n",
      "Epoch 4/20\n",
      "100/100 - 97s - loss: 0.1092 - accuracy: 0.9620 - val_loss: 0.0606 - val_accuracy: 0.9855\n",
      "Epoch 5/20\n",
      "100/100 - 98s - loss: 0.0911 - accuracy: 0.9679 - val_loss: 0.0183 - val_accuracy: 0.9944\n",
      "Epoch 6/20\n",
      "100/100 - 98s - loss: 0.0772 - accuracy: 0.9744 - val_loss: 0.0374 - val_accuracy: 0.9966\n",
      "Epoch 7/20\n",
      "100/100 - 97s - loss: 0.0696 - accuracy: 0.9773 - val_loss: 0.0255 - val_accuracy: 0.9933\n",
      "Epoch 8/20\n",
      "100/100 - 98s - loss: 0.0619 - accuracy: 0.9778 - val_loss: 0.0603 - val_accuracy: 0.9888\n",
      "Epoch 9/20\n",
      "100/100 - 98s - loss: 0.0709 - accuracy: 0.9758 - val_loss: 0.0660 - val_accuracy: 0.9877\n",
      "Epoch 10/20\n",
      "100/100 - 97s - loss: 0.0983 - accuracy: 0.9663 - val_loss: 0.0382 - val_accuracy: 0.9933\n",
      "Epoch 11/20\n",
      "100/100 - 97s - loss: 0.0993 - accuracy: 0.9702 - val_loss: 0.1015 - val_accuracy: 0.9799\n",
      "Epoch 12/20\n",
      "100/100 - 98s - loss: 0.0723 - accuracy: 0.9759 - val_loss: 0.0591 - val_accuracy: 0.9899\n",
      "Epoch 13/20\n",
      "100/100 - 97s - loss: 0.0623 - accuracy: 0.9773 - val_loss: 0.0257 - val_accuracy: 0.9955\n",
      "Epoch 14/20\n",
      "100/100 - 100s - loss: 0.0720 - accuracy: 0.9759 - val_loss: 0.0356 - val_accuracy: 0.9933\n",
      "Epoch 15/20\n",
      "100/100 - 98s - loss: 0.0773 - accuracy: 0.9743 - val_loss: 0.0548 - val_accuracy: 0.9933\n",
      "Epoch 16/20\n",
      "100/100 - 101s - loss: 0.0674 - accuracy: 0.9824 - val_loss: 0.1071 - val_accuracy: 0.9844\n",
      "Epoch 17/20\n",
      "100/100 - 99s - loss: 0.0422 - accuracy: 0.9839 - val_loss: 0.0811 - val_accuracy: 0.9844\n",
      "Epoch 18/20\n",
      "100/100 - 97s - loss: 0.0659 - accuracy: 0.9834 - val_loss: 0.1646 - val_accuracy: 0.9754\n",
      "Epoch 19/20\n",
      "100/100 - 97s - loss: 0.0573 - accuracy: 0.9808 - val_loss: 0.0219 - val_accuracy: 0.9966\n",
      "Epoch 20/20\n",
      "100/100 - 100s - loss: 0.0507 - accuracy: 0.9859 - val_loss: 0.0301 - val_accuracy: 0.9944\n"
     ]
    }
   ],
   "source": [
    "history = model.fit_generator(\n",
    "            train_data,\n",
    "            validation_data = valid_data,\n",
    "            steps_per_epoch = 100,\n",
    "            epochs = 20,\n",
    "            validation_steps = 50,\n",
    "            verbose = 2)"
   ]
  },
  {
   "cell_type": "code",
   "execution_count": 12,
   "metadata": {},
   "outputs": [
    {
     "data": {
      "image/png": "[encoded data removed]",
      "text/plain": [
       "<Figure size 432x288 with 1 Axes>"
      ]
     },
     "metadata": {
      "needs_background": "light"
     },
     "output_type": "display_data"
    },
    {
     "data": {
      "image/png": "[encoded data removed]",
      "text/plain": [
       "<Figure size 432x288 with 1 Axes>"
      ]
     },
     "metadata": {
      "needs_background": "light"
     },
     "output_type": "display_data"
    }
   ],
   "source": [
    "import matplotlib.pyplot as plt\n",
    "acc = history.history['accuracy']\n",
    "val_acc = history.history['val_accuracy']\n",
    "loss = history.history['loss']\n",
    "val_loss = history.history['val_loss']\n",
    "\n",
    "epochs = range(len(acc))\n",
    "\n",
    "plt.plot(epochs, acc, 'r', label='Training accuracy')\n",
    "plt.plot(epochs, val_acc, 'b', label='Validation accuracy')\n",
    "plt.title('Training and validation accuracy')\n",
    "\n",
    "plt.figure()\n",
    "\n",
    "plt.plot(epochs, loss, 'r', label='Training Loss')\n",
    "plt.plot(epochs, val_loss, 'b', label='Validation Loss')\n",
    "plt.title('Training and validation loss')\n",
    "plt.legend()\n",
    "\n",
    "plt.show()"
   ]
  },
  {
   "cell_type": "code",
   "execution_count": 13,
   "metadata": {},
   "outputs": [],
   "source": [
    "model.save('premodel.h5')"
   ]
  },
  {
   "cell_type": "code",
   "execution_count": null,
   "metadata": {},
   "outputs": [],
   "source": []
  }
 ],
 "metadata": {
  "kernelspec": {
   "display_name": "Python 3",
   "language": "python",
   "name": "python3"
  },
  "language_info": {
   "codemirror_mode": {
    "name": "ipython",
    "version": 3
   },
   "file_extension": ".py",
   "mimetype": "text/x-python",
   "name": "python",
   "nbconvert_exporter": "python",
   "pygments_lexer": "ipython3",
   "version": "3.6.8"
  }
 },
 "nbformat": 4,
 "nbformat_minor": 4
}
